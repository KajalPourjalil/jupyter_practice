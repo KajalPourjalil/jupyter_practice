{
 "cells": [
  {
   "cell_type": "code",
   "execution_count": 1,
   "metadata": {},
   "outputs": [],
   "source": [
    "#packages for analysis\n",
    "import numpy as np\n",
    "import pandas as pd\n",
    "from sklearn import svm\n",
    "\n",
    "#packages for visuals\n",
    "import matplotlib.pyplot as plt\n",
    "# import seaborn as sns; sns.set(font_scale=1.2)\n",
    "\n",
    "#Allows charts to appear in the notebook\n",
    "%matplotlib inline\n",
    "\n",
    "#pickle pacakge\n",
    "import pickle"
   ]
  },
  {
   "cell_type": "code",
   "execution_count": 4,
   "metadata": {},
   "outputs": [
    {
     "name": "stdout",
     "output_type": "stream",
     "text": [
      "     Type  Flour  Milk  Sugar  Butter  Egg  Baking Powder  Vanilla  Salt\n",
      "0  Muffin     55    28      3       7    5              2        0     0\n",
      "1  Muffin     47    24     12       6    9              1        0     0\n",
      "2  Muffin     47    23     18       6    4              1        0     0\n",
      "3  Muffin     45    11     17      17    8              1        0     0\n",
      "4  Muffin     50    25     12       6    5              2        1     0\n"
     ]
    }
   ],
   "source": [
    "recipes = pd.read_csv('Cupcakes_Muffins.csv')\n",
    "print(recipes.head())"
   ]
  },
  {
   "cell_type": "code",
   "execution_count": null,
   "metadata": {},
   "outputs": [],
   "source": []
  }
 ],
 "metadata": {
  "kernelspec": {
   "display_name": "base",
   "language": "python",
   "name": "python3"
  },
  "language_info": {
   "codemirror_mode": {
    "name": "ipython",
    "version": 3
   },
   "file_extension": ".py",
   "mimetype": "text/x-python",
   "name": "python",
   "nbconvert_exporter": "python",
   "pygments_lexer": "ipython3",
   "version": "3.11.3"
  }
 },
 "nbformat": 4,
 "nbformat_minor": 2
}
